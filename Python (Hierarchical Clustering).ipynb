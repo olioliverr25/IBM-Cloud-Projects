{
    "cells": [
        {
            "cell_type": "markdown",
            "metadata": {},
            "source": "<center>\n    <img src=\"https://s3-api.us-geo.objectstorage.softlayer.net/cf-courses-data/CognitiveClass/Logos/organization_logo/organization_logo.png\" width=\"300\" alt=\"cognitiveclass.ai logo\"  />\n</center>\n\n# Hierarchical Clustering\n\nEstimated time needed: **25** minutes\n\n## Objectives\n\nAfter completing this lab you will be able to:\n\n-   Use scikit-learn to Hierarchical clustering\n-   Create dendograms to visualize the clustering\n"
        },
        {
            "cell_type": "markdown",
            "metadata": {},
            "source": "<h1>Table of contents</h1>\n\n<div class=\"alert alert-block alert-info\" style=\"margin-top: 20px\">\n    <ol>\n        <li><a href=\"#hierarchical_agglomerative\">Hierarchical Clustering - Agglomerative</a></li>\n            <ol>\n                <li><a href=\"#generating_data\">Generating Random Data</a></li>\n                <li><a href=\"#agglomerative_clustering\">Agglomerative Clustering</a></li>\n                <li><a href=\"#dendrogram\">Dendrogram Associated for the Agglomerative Hierarchical Clustering</a></li>\n            </ol>            \n        <li><a href=\"#clustering_vehicle_dataset\">Clustering on the Vehicle Dataset</a></li>\n            <ol>\n                <li><a href=\"#data_cleaning\">Data Cleaning</a></li>\n                <li><a href=\"#clustering_using_scipy\">Clustering Using Scipy</a></li>\n                <li><a href=\"#clustering_using_skl\">Clustering using scikit-learn</a></li>\n            </ol>\n    </ol>\n</div>\n<br>\n<hr>\n"
        },
        {
            "cell_type": "markdown",
            "metadata": {},
            "source": "<h1 id=\"hierarchical_agglomerative\">Hierarchical Clustering - Agglomerative</h1>\n\nWe will be looking at a clustering technique, which is <b>Agglomerative Hierarchical Clustering</b>. Remember that agglomerative is the bottom up approach. <br> <br>\nIn this lab, we will be looking at Agglomerative clustering, which is more popular than Divisive clustering. <br> <br>\nWe will also be using Complete Linkage as the Linkage Criteria. <br>\n<b> <i> NOTE: You can also try using Average Linkage wherever Complete Linkage would be used to see the difference! </i> </b>\n"
        },
        {
            "cell_type": "code",
            "execution_count": 1,
            "metadata": {},
            "outputs": [],
            "source": "import numpy as np \nimport pandas as pd\nfrom scipy import ndimage \nfrom scipy.cluster import hierarchy \nfrom scipy.spatial import distance_matrix \nfrom matplotlib import pyplot as plt \nfrom sklearn import manifold, datasets \nfrom sklearn.cluster import AgglomerativeClustering \nfrom sklearn.datasets.samples_generator import make_blobs \n%matplotlib inline"
        },
        {
            "cell_type": "markdown",
            "metadata": {},
            "source": "<hr>\n<h3 id=\"generating_data\">Generating Random Data</h3>\nWe will be generating a set of data using the <b>make_blobs</b> class. <br> <br>\nInput these parameters into make_blobs:\n<ul>\n    <li> <b>n_samples</b>: The total number of points equally divided among clusters. </li>\n    <ul> <li> Choose a number from 10-1500 </li> </ul>\n    <li> <b>centers</b>: The number of centers to generate, or the fixed center locations. </li>\n    <ul> <li> Choose arrays of x,y coordinates for generating the centers. Have 1-10 centers (ex. centers=[[1,1], [2,5]]) </li> </ul>\n    <li> <b>cluster_std</b>: The standard deviation of the clusters. The larger the number, the further apart the clusters</li>\n    <ul> <li> Choose a number between 0.5-1.5 </li> </ul>\n</ul> <br>\nSave the result to <b>X1</b> and <b>y1</b>.\n"
        },
        {
            "cell_type": "code",
            "execution_count": 2,
            "metadata": {},
            "outputs": [],
            "source": "X1, y1 = make_blobs(n_samples=50, centers=[[4,4], [-2, -1], [1, 1], [10,4]], cluster_std=0.9)"
        },
        {
            "cell_type": "markdown",
            "metadata": {},
            "source": "Plot the scatter plot of the randomly generated data\n"
        },
        {
            "cell_type": "code",
            "execution_count": 3,
            "metadata": {},
            "outputs": [
                {
                    "data": {
                        "text/plain": "<matplotlib.collections.PathCollection at 0x7fcb6b074358>"
                    },
                    "execution_count": 3,
                    "metadata": {},
                    "output_type": "execute_result"
                },
                {
                    "data": {
                        "image/png": "[encoded data removed]",
                        "text/plain": "<Figure size 432x288 with 1 Axes>"
                    },
                    "metadata": {
                        "needs_background": "light"
                    },
                    "output_type": "display_data"
                }
            ],
            "source": "plt.scatter(X1[:, 0], X1[:, 1], marker='o') "
        },
        {
            "cell_type": "markdown",
            "metadata": {},
            "source": "<hr>\n<h3 id=\"agglomerative_clustering\">Agglomerative Clustering</h3>\n\nWe will start by clustering the random data points we just created.\n"
        },
        {
            "cell_type": "markdown",
            "metadata": {},
            "source": "The <b> Agglomerative Clustering </b> class will require two inputs:\n\n<ul>\n    <li> <b>n_clusters</b>: The number of clusters to form as well as the number of centroids to generate. </li>\n    <ul> <li> Value will be: 4 </li> </ul>\n    <li> <b>linkage</b>: Which linkage criterion to use. The linkage criterion determines which distance to use between sets of observation. The algorithm will merge the pairs of cluster that minimize this criterion. </li>\n    <ul> \n        <li> Value will be: 'complete' </li> \n        <li> <b>Note</b>: It is recommended you try everything with 'average' as well </li>\n    </ul>\n</ul> <br>\nSave the result to a variable called <b> agglom </b>\n"
        },
        {
            "cell_type": "code",
            "execution_count": 4,
            "metadata": {},
            "outputs": [],
            "source": "agglom = AgglomerativeClustering(n_clusters = 4, linkage = 'average')"
        },
        {
            "cell_type": "markdown",
            "metadata": {},
            "source": "Fit the model with <b> X2 </b> and <b> y2 </b> from the generated data above.\n"
        },
        {
            "cell_type": "code",
            "execution_count": 7,
            "metadata": {
                "scrolled": true
            },
            "outputs": [
                {
                    "data": {
                        "text/plain": "AgglomerativeClustering(affinity='euclidean', compute_full_tree='auto',\n            connectivity=None, linkage='average', memory=None,\n            n_clusters=4, pooling_func='deprecated')"
                    },
                    "execution_count": 7,
                    "metadata": {},
                    "output_type": "execute_result"
                }
            ],
            "source": "agglom.fit(X1,y1)"
        },
        {
            "cell_type": "markdown",
            "metadata": {},
            "source": "Run the following code to show the clustering! <br>\nRemember to read the code and comments to gain more understanding on how the plotting works.\n"
        },
        {
            "cell_type": "code",
            "execution_count": 13,
            "metadata": {},
            "outputs": [
                {
                    "data": {
                        "image/png": "[encoded data removed]",
                        "text/plain": "<Figure size 432x288 with 1 Axes>"
                    },
                    "metadata": {},
                    "output_type": "display_data"
                }
            ],
            "source": "# Create a figure of size 6 inches by 4 inches.\nplt.figure(figsize=(6,4))\n\n# These two lines of code are used to scale the data points down,\n# Or else the data points will be scattered very far apart.\n\n# Create a minimum and maximum range of X1.\nx_min, x_max = np.min(X1, axis=0), np.max(X1, axis=0)\n\n# Get the average distance for X1.\nX1 = (X1 - x_min) / (x_max - x_min)\n\n# This loop displays all of the datapoints.\nfor i in range(X1.shape[0]):\n    # Replace the data points with their respective cluster value \n    # (ex. 0) and is color coded with a colormap (plt.cm.spectral)\n    plt.text(X1[i, 0], X1[i, 1], str(y1[i]),\n             color=plt.cm.nipy_spectral(agglom.labels_[i] / 10.),\n             fontdict={'weight': 'bold', 'size': 9})\n    \n# Remove the x ticks, y ticks, x and y axis\nplt.xticks([])\nplt.yticks([])\n#plt.axis('off')\n\n\n\n# Display the plot of the original data before clustering\nplt.scatter(X1[:, 0], X1[:, 1], marker='.')\n# Display the plot\nplt.show()"
        },
        {
            "cell_type": "markdown",
            "metadata": {},
            "source": "<h3 id=\"dendrogram\">Dendrogram Associated for the Agglomerative Hierarchical Clustering</h3>\n\nRemember that a <b>distance matrix</b> contains the <b> distance from each point to every other point of a dataset </b>. \n\nUse the function <b> distance_matrix, </b> which requires <b>two inputs</b>. Use the Feature Matrix, <b> X2 </b> as both inputs and save the distance matrix to a variable called <b> dist_matrix </b> <br> <br>\nRemember that the distance values are symmetric, with a diagonal of 0's. This is one way of making sure your matrix is correct. <br> (print out dist_matrix to make sure it's correct)\n"
        },
        {
            "cell_type": "code",
            "execution_count": 12,
            "metadata": {
                "scrolled": true
            },
            "outputs": [
                {
                    "name": "stdout",
                    "output_type": "stream",
                    "text": "[[0.         0.10937302 0.16935619 ... 0.36566495 0.0729503  0.88246743]\n [0.10937302 0.         0.15642224 ... 0.28864998 0.05317224 0.84327638]\n [0.16935619 0.15642224 0.         ... 0.43591599 0.18341145 0.99929596]\n ...\n [0.36566495 0.28864998 0.43591599 ... 0.         0.29530847 0.58030269]\n [0.0729503  0.05317224 0.18341145 ... 0.29530847 0.         0.82844057]\n [0.88246743 0.84327638 0.99929596 ... 0.58030269 0.82844057 0.        ]]\n"
                }
            ],
            "source": "dist_matrix = distance_matrix(X1,X1) \nprint(dist_matrix)"
        },
        {
            "cell_type": "markdown",
            "metadata": {},
            "source": "Using the <b> linkage </b> class from hierarchy, pass in the parameters:\n\n<ul>\n    <li> The distance matrix </li>\n    <li> 'complete' for complete linkage </li>\n</ul> <br>\nSave the result to a variable called <b> Z </b>\n"
        },
        {
            "cell_type": "code",
            "execution_count": 11,
            "metadata": {},
            "outputs": [
                {
                    "name": "stderr",
                    "output_type": "stream",
                    "text": "/home/jupyterlab/conda/envs/python/lib/python3.6/site-packages/ipykernel_launcher.py:1: ClusterWarning: scipy.cluster: The symmetric non-negative hollow observation matrix looks suspiciously like an uncondensed distance matrix\n  \"\"\"Entry point for launching an IPython kernel.\n"
                }
            ],
            "source": "Z = hierarchy.linkage(dist_matrix, 'complete')"
        },
        {
            "cell_type": "markdown",
            "metadata": {},
            "source": "A Hierarchical clustering is typically visualized as a dendrogram as shown in the following cell. Each merge is represented by a horizontal line. The y-coordinate of the horizontal line is the similarity of the two clusters that were merged, where cities are viewed as singleton clusters. \nBy moving up from the bottom layer to the top node, a dendrogram allows us to reconstruct the history of merges that resulted in the depicted clustering. \n\nNext, we will save the dendrogram to a variable called <b>dendro</b>. In doing this, the dendrogram will also be displayed.\nUsing the <b> dendrogram </b> class from hierarchy, pass in the parameter:\n\n<ul> <li> Z </li> </ul>\n"
        },
        {
            "cell_type": "code",
            "execution_count": 14,
            "metadata": {},
            "outputs": [
                {
                    "data": {
                        "image/png": "[encoded data removed]",
                        "text/plain": "<Figure size 432x288 with 1 Axes>"
                    },
                    "metadata": {
                        "needs_background": "light"
                    },
                    "output_type": "display_data"
                }
            ],
            "source": "dendro = hierarchy.dendrogram(Z)"
        },
        {
            "cell_type": "markdown",
            "metadata": {},
            "source": "## Practice\n\nWe used **complete** linkage for our case, change it to **average** linkage to see how the dendogram changes.\n"
        },
        {
            "cell_type": "code",
            "execution_count": 15,
            "metadata": {},
            "outputs": [
                {
                    "name": "stderr",
                    "output_type": "stream",
                    "text": "/home/jupyterlab/conda/envs/python/lib/python3.6/site-packages/ipykernel_launcher.py:3: ClusterWarning: scipy.cluster: The symmetric non-negative hollow observation matrix looks suspiciously like an uncondensed distance matrix\n  This is separate from the ipykernel package so we can avoid doing imports until\n"
                },
                {
                    "data": {
                        "image/png": "[encoded data removed]",
                        "text/plain": "<Figure size 432x288 with 1 Axes>"
                    },
                    "metadata": {
                        "needs_background": "light"
                    },
                    "output_type": "display_data"
                }
            ],
            "source": "# write your code here\n\nZ = hierarchy.linkage(dist_matrix, 'average')\ndendro = hierarchy.dendrogram(Z)"
        },
        {
            "cell_type": "markdown",
            "metadata": {},
            "source": "<details><summary>Click here for the solution</summary>\n\n```python\nZ = hierarchy.linkage(dist_matrix, 'average')\ndendro = hierarchy.dendrogram(Z)\n\n```\n\n</details>\n"
        },
        {
            "cell_type": "markdown",
            "metadata": {},
            "source": "<hr>\n<h1 id=\"clustering_vehicle_dataset\">Clustering on Vehicle dataset</h1>\n\nImagine that an automobile manufacturer has developed prototypes for a new vehicle. Before introducing the new model into its range, the manufacturer wants to determine which existing vehicles on the market are most like the prototypes--that is, how vehicles can be grouped, which group is the most similar with the model, and therefore which models they will be competing against.\n\nOur objective here, is to use clustering methods, to find the most distinctive clusters of vehicles. It will summarize the existing vehicles and help manufacturers to make decision about the supply of new models.\n"
        },
        {
            "cell_type": "markdown",
            "metadata": {},
            "source": "### Download data\n\nTo download the data, we will use **`!wget`** to download it from IBM Object Storage.  \n**Did you know?** When it comes to Machine Learning, you will likely be working with large datasets. As a business, where can you host your data? IBM is offering a unique opportunity for businesses, with 10 Tb of IBM Cloud Object Storage: [Sign up now for free](http://cocl.us/ML0101EN-IBM-Offer-CC)\n"
        },
        {
            "cell_type": "code",
            "execution_count": 16,
            "metadata": {},
            "outputs": [
                {
                    "name": "stdout",
                    "output_type": "stream",
                    "text": "--2020-12-07 11:00:34--  https://cf-courses-data.s3.us.cloud-object-storage.appdomain.cloud/IBMDeveloperSkillsNetwork-ML0101EN-SkillsNetwork/labs/Module%204/data/cars_clus.csv\nResolving cf-courses-data.s3.us.cloud-object-storage.appdomain.cloud (cf-courses-data.s3.us.cloud-object-storage.appdomain.cloud)... 169.63.118.104\nConnecting to cf-courses-data.s3.us.cloud-object-storage.appdomain.cloud (cf-courses-data.s3.us.cloud-object-storage.appdomain.cloud)|169.63.118.104|:443... connected.\nHTTP request sent, awaiting response... 200 OK\nLength: 17774 (17K) [text/csv]\nSaving to: \u2018cars_clus.csv\u2019\n\ncars_clus.csv       100%[===================>]  17.36K  --.-KB/s    in 0.002s  \n\n2020-12-07 11:00:34 (10.8 MB/s) - \u2018cars_clus.csv\u2019 saved [17774/17774]\n\n"
                }
            ],
            "source": "!wget -O cars_clus.csv https://cf-courses-data.s3.us.cloud-object-storage.appdomain.cloud/IBMDeveloperSkillsNetwork-ML0101EN-SkillsNetwork/labs/Module%204/data/cars_clus.csv"
        },
        {
            "cell_type": "markdown",
            "metadata": {},
            "source": "## Read data\n\nLets read dataset to see what features the manufacturer has collected about the existing models.\n"
        },
        {
            "cell_type": "code",
            "execution_count": 17,
            "metadata": {},
            "outputs": [
                {
                    "name": "stdout",
                    "output_type": "stream",
                    "text": "Shape of dataset:  (159, 16)\n"
                },
                {
                    "data": {
                        "text/html": "<div>\n<style scoped>\n    .dataframe tbody tr th:only-of-type {\n        vertical-align: middle;\n    }\n\n    .dataframe tbody tr th {\n        vertical-align: top;\n    }\n\n    .dataframe thead th {\n        text-align: right;\n    }\n</style>\n<table border=\"1\" class=\"dataframe\">\n  <thead>\n    <tr style=\"text-align: right;\">\n      <th></th>\n      <th>manufact</th>\n      <th>model</th>\n      <th>sales</th>\n      <th>resale</th>\n      <th>type</th>\n      <th>price</th>\n      <th>engine_s</th>\n      <th>horsepow</th>\n      <th>wheelbas</th>\n      <th>width</th>\n      <th>length</th>\n      <th>curb_wgt</th>\n      <th>fuel_cap</th>\n      <th>mpg</th>\n      <th>lnsales</th>\n      <th>partition</th>\n    </tr>\n  </thead>\n  <tbody>\n    <tr>\n      <th>0</th>\n      <td>Acura</td>\n      <td>Integra</td>\n      <td>16.919</td>\n      <td>16.360</td>\n      <td>0.000</td>\n      <td>21.500</td>\n      <td>1.800</td>\n      <td>140.000</td>\n      <td>101.200</td>\n      <td>67.300</td>\n      <td>172.400</td>\n      <td>2.639</td>\n      <td>13.200</td>\n      <td>28.000</td>\n      <td>2.828</td>\n      <td>0.0</td>\n    </tr>\n    <tr>\n      <th>1</th>\n      <td>Acura</td>\n      <td>TL</td>\n      <td>39.384</td>\n      <td>19.875</td>\n      <td>0.000</td>\n      <td>28.400</td>\n      <td>3.200</td>\n      <td>225.000</td>\n      <td>108.100</td>\n      <td>70.300</td>\n      <td>192.900</td>\n      <td>3.517</td>\n      <td>17.200</td>\n      <td>25.000</td>\n      <td>3.673</td>\n      <td>0.0</td>\n    </tr>\n    <tr>\n      <th>2</th>\n      <td>Acura</td>\n      <td>CL</td>\n      <td>14.114</td>\n      <td>18.225</td>\n      <td>0.000</td>\n      <td>$null$</td>\n      <td>3.200</td>\n      <td>225.000</td>\n      <td>106.900</td>\n      <td>70.600</td>\n      <td>192.000</td>\n      <td>3.470</td>\n      <td>17.200</td>\n      <td>26.000</td>\n      <td>2.647</td>\n      <td>0.0</td>\n    </tr>\n    <tr>\n      <th>3</th>\n      <td>Acura</td>\n      <td>RL</td>\n      <td>8.588</td>\n      <td>29.725</td>\n      <td>0.000</td>\n      <td>42.000</td>\n      <td>3.500</td>\n      <td>210.000</td>\n      <td>114.600</td>\n      <td>71.400</td>\n      <td>196.600</td>\n      <td>3.850</td>\n      <td>18.000</td>\n      <td>22.000</td>\n      <td>2.150</td>\n      <td>0.0</td>\n    </tr>\n    <tr>\n      <th>4</th>\n      <td>Audi</td>\n      <td>A4</td>\n      <td>20.397</td>\n      <td>22.255</td>\n      <td>0.000</td>\n      <td>23.990</td>\n      <td>1.800</td>\n      <td>150.000</td>\n      <td>102.600</td>\n      <td>68.200</td>\n      <td>178.000</td>\n      <td>2.998</td>\n      <td>16.400</td>\n      <td>27.000</td>\n      <td>3.015</td>\n      <td>0.0</td>\n    </tr>\n  </tbody>\n</table>\n</div>",
                        "text/plain": "  manufact    model   sales  resale   type   price engine_s horsepow wheelbas  \\\n0    Acura  Integra  16.919  16.360  0.000  21.500    1.800  140.000  101.200   \n1    Acura       TL  39.384  19.875  0.000  28.400    3.200  225.000  108.100   \n2    Acura       CL  14.114  18.225  0.000  $null$    3.200  225.000  106.900   \n3    Acura       RL   8.588  29.725  0.000  42.000    3.500  210.000  114.600   \n4     Audi       A4  20.397  22.255  0.000  23.990    1.800  150.000  102.600   \n\n    width   length curb_wgt fuel_cap     mpg lnsales  partition  \n0  67.300  172.400    2.639   13.200  28.000   2.828        0.0  \n1  70.300  192.900    3.517   17.200  25.000   3.673        0.0  \n2  70.600  192.000    3.470   17.200  26.000   2.647        0.0  \n3  71.400  196.600    3.850   18.000  22.000   2.150        0.0  \n4  68.200  178.000    2.998   16.400  27.000   3.015        0.0  "
                    },
                    "execution_count": 17,
                    "metadata": {},
                    "output_type": "execute_result"
                }
            ],
            "source": "filename = 'cars_clus.csv'\n\n#Read csv\npdf = pd.read_csv(filename)\nprint (\"Shape of dataset: \", pdf.shape)\n\npdf.head(5)"
        },
        {
            "cell_type": "markdown",
            "metadata": {},
            "source": "The feature sets include  price in thousands (price), engine size (engine_s), horsepower (horsepow), wheelbase (wheelbas), width (width), length (length), curb weight (curb_wgt), fuel capacity (fuel_cap) and fuel efficiency (mpg).\n"
        },
        {
            "cell_type": "markdown",
            "metadata": {},
            "source": "<h2 id=\"data_cleaning\">Data Cleaning</h2>\n\nLets simply clear the dataset by dropping the rows that have null value:\n"
        },
        {
            "cell_type": "code",
            "execution_count": 18,
            "metadata": {},
            "outputs": [
                {
                    "name": "stdout",
                    "output_type": "stream",
                    "text": "Shape of dataset before cleaning:  2544\nShape of dataset after cleaning:  1872\n"
                },
                {
                    "data": {
                        "text/html": "<div>\n<style scoped>\n    .dataframe tbody tr th:only-of-type {\n        vertical-align: middle;\n    }\n\n    .dataframe tbody tr th {\n        vertical-align: top;\n    }\n\n    .dataframe thead th {\n        text-align: right;\n    }\n</style>\n<table border=\"1\" class=\"dataframe\">\n  <thead>\n    <tr style=\"text-align: right;\">\n      <th></th>\n      <th>manufact</th>\n      <th>model</th>\n      <th>sales</th>\n      <th>resale</th>\n      <th>type</th>\n      <th>price</th>\n      <th>engine_s</th>\n      <th>horsepow</th>\n      <th>wheelbas</th>\n      <th>width</th>\n      <th>length</th>\n      <th>curb_wgt</th>\n      <th>fuel_cap</th>\n      <th>mpg</th>\n      <th>lnsales</th>\n      <th>partition</th>\n    </tr>\n  </thead>\n  <tbody>\n    <tr>\n      <th>0</th>\n      <td>Acura</td>\n      <td>Integra</td>\n      <td>16.919</td>\n      <td>16.360</td>\n      <td>0.0</td>\n      <td>21.50</td>\n      <td>1.8</td>\n      <td>140.0</td>\n      <td>101.2</td>\n      <td>67.3</td>\n      <td>172.4</td>\n      <td>2.639</td>\n      <td>13.2</td>\n      <td>28.0</td>\n      <td>2.828</td>\n      <td>0.0</td>\n    </tr>\n    <tr>\n      <th>1</th>\n      <td>Acura</td>\n      <td>TL</td>\n      <td>39.384</td>\n      <td>19.875</td>\n      <td>0.0</td>\n      <td>28.40</td>\n      <td>3.2</td>\n      <td>225.0</td>\n      <td>108.1</td>\n      <td>70.3</td>\n      <td>192.9</td>\n      <td>3.517</td>\n      <td>17.2</td>\n      <td>25.0</td>\n      <td>3.673</td>\n      <td>0.0</td>\n    </tr>\n    <tr>\n      <th>2</th>\n      <td>Acura</td>\n      <td>RL</td>\n      <td>8.588</td>\n      <td>29.725</td>\n      <td>0.0</td>\n      <td>42.00</td>\n      <td>3.5</td>\n      <td>210.0</td>\n      <td>114.6</td>\n      <td>71.4</td>\n      <td>196.6</td>\n      <td>3.850</td>\n      <td>18.0</td>\n      <td>22.0</td>\n      <td>2.150</td>\n      <td>0.0</td>\n    </tr>\n    <tr>\n      <th>3</th>\n      <td>Audi</td>\n      <td>A4</td>\n      <td>20.397</td>\n      <td>22.255</td>\n      <td>0.0</td>\n      <td>23.99</td>\n      <td>1.8</td>\n      <td>150.0</td>\n      <td>102.6</td>\n      <td>68.2</td>\n      <td>178.0</td>\n      <td>2.998</td>\n      <td>16.4</td>\n      <td>27.0</td>\n      <td>3.015</td>\n      <td>0.0</td>\n    </tr>\n    <tr>\n      <th>4</th>\n      <td>Audi</td>\n      <td>A6</td>\n      <td>18.780</td>\n      <td>23.555</td>\n      <td>0.0</td>\n      <td>33.95</td>\n      <td>2.8</td>\n      <td>200.0</td>\n      <td>108.7</td>\n      <td>76.1</td>\n      <td>192.0</td>\n      <td>3.561</td>\n      <td>18.5</td>\n      <td>22.0</td>\n      <td>2.933</td>\n      <td>0.0</td>\n    </tr>\n  </tbody>\n</table>\n</div>",
                        "text/plain": "  manufact    model   sales  resale  type  price  engine_s  horsepow  \\\n0    Acura  Integra  16.919  16.360   0.0  21.50       1.8     140.0   \n1    Acura       TL  39.384  19.875   0.0  28.40       3.2     225.0   \n2    Acura       RL   8.588  29.725   0.0  42.00       3.5     210.0   \n3     Audi       A4  20.397  22.255   0.0  23.99       1.8     150.0   \n4     Audi       A6  18.780  23.555   0.0  33.95       2.8     200.0   \n\n   wheelbas  width  length  curb_wgt  fuel_cap   mpg  lnsales  partition  \n0     101.2   67.3   172.4     2.639      13.2  28.0    2.828        0.0  \n1     108.1   70.3   192.9     3.517      17.2  25.0    3.673        0.0  \n2     114.6   71.4   196.6     3.850      18.0  22.0    2.150        0.0  \n3     102.6   68.2   178.0     2.998      16.4  27.0    3.015        0.0  \n4     108.7   76.1   192.0     3.561      18.5  22.0    2.933        0.0  "
                    },
                    "execution_count": 18,
                    "metadata": {},
                    "output_type": "execute_result"
                }
            ],
            "source": "print (\"Shape of dataset before cleaning: \", pdf.size)\npdf[[ 'sales', 'resale', 'type', 'price', 'engine_s',\n       'horsepow', 'wheelbas', 'width', 'length', 'curb_wgt', 'fuel_cap',\n       'mpg', 'lnsales']] = pdf[['sales', 'resale', 'type', 'price', 'engine_s',\n       'horsepow', 'wheelbas', 'width', 'length', 'curb_wgt', 'fuel_cap',\n       'mpg', 'lnsales']].apply(pd.to_numeric, errors='coerce')\npdf = pdf.dropna()\npdf = pdf.reset_index(drop=True)\nprint (\"Shape of dataset after cleaning: \", pdf.size)\npdf.head(5)"
        },
        {
            "cell_type": "markdown",
            "metadata": {},
            "source": "### Feature selection\n\nLets select our feature set:\n"
        },
        {
            "cell_type": "code",
            "execution_count": 19,
            "metadata": {},
            "outputs": [],
            "source": "featureset = pdf[['engine_s',  'horsepow', 'wheelbas', 'width', 'length', 'curb_wgt', 'fuel_cap', 'mpg']]"
        },
        {
            "cell_type": "markdown",
            "metadata": {},
            "source": "### Normalization\n\nNow we can normalize the feature set. **MinMaxScaler** transforms features by scaling each feature to a given range. It is by default (0, 1). That is, this estimator scales and translates each feature individually such that it is between zero and one.\n"
        },
        {
            "cell_type": "code",
            "execution_count": 20,
            "metadata": {},
            "outputs": [
                {
                    "data": {
                        "text/plain": "array([[0.11428571, 0.21518987, 0.18655098, 0.28143713, 0.30625832,\n        0.2310559 , 0.13364055, 0.43333333],\n       [0.31428571, 0.43037975, 0.3362256 , 0.46107784, 0.5792277 ,\n        0.50372671, 0.31797235, 0.33333333],\n       [0.35714286, 0.39240506, 0.47722343, 0.52694611, 0.62849534,\n        0.60714286, 0.35483871, 0.23333333],\n       [0.11428571, 0.24050633, 0.21691974, 0.33532934, 0.38082557,\n        0.34254658, 0.28110599, 0.4       ],\n       [0.25714286, 0.36708861, 0.34924078, 0.80838323, 0.56724368,\n        0.5173913 , 0.37788018, 0.23333333]])"
                    },
                    "execution_count": 20,
                    "metadata": {},
                    "output_type": "execute_result"
                }
            ],
            "source": "from sklearn.preprocessing import MinMaxScaler\nx = featureset.values #returns a numpy array\nmin_max_scaler = MinMaxScaler()\nfeature_mtx = min_max_scaler.fit_transform(x)\nfeature_mtx [0:5]"
        },
        {
            "cell_type": "markdown",
            "metadata": {},
            "source": "<h2 id=\"clustering_using_scipy\">Clustering using Scipy</h2>\n\nIn this part we use Scipy package to cluster the dataset.\n\nFirst, we calculate the distance matrix. \n"
        },
        {
            "cell_type": "code",
            "execution_count": 23,
            "metadata": {},
            "outputs": [
                {
                    "name": "stderr",
                    "output_type": "stream",
                    "text": "/home/jupyterlab/conda/envs/python/lib/python3.6/site-packages/ipykernel_launcher.py:3: DeprecationWarning: scipy.zeros is deprecated and will be removed in SciPy 2.0.0, use numpy.zeros instead\n  This is separate from the ipykernel package so we can avoid doing imports until\n"
                }
            ],
            "source": "import scipy\nleng = feature_mtx.shape[0]\nD = scipy.zeros([leng,leng])\nfor i in range(leng):\n    for j in range(leng):\n        D[i,j] = scipy.spatial.distance.euclidean(feature_mtx[i], feature_mtx[j])"
        },
        {
            "cell_type": "markdown",
            "metadata": {},
            "source": "In agglomerative clustering, at each iteration, the algorithm must update the distance matrix to reflect the distance of the newly formed cluster with the remaining clusters in the forest. \nThe following methods are supported in Scipy for calculating the distance between the newly formed cluster and each:\n\n```\n- single\n- complete\n- average\n- weighted\n- centroid\n```\n\nWe use **complete** for our case, but feel free to change it to see how the results change.\n"
        },
        {
            "cell_type": "code",
            "execution_count": 22,
            "metadata": {},
            "outputs": [
                {
                    "name": "stderr",
                    "output_type": "stream",
                    "text": "/home/jupyterlab/conda/envs/python/lib/python3.6/site-packages/ipykernel_launcher.py:3: ClusterWarning: scipy.cluster: The symmetric non-negative hollow observation matrix looks suspiciously like an uncondensed distance matrix\n  This is separate from the ipykernel package so we can avoid doing imports until\n"
                }
            ],
            "source": "import pylab\nimport scipy.cluster.hierarchy\nZ = hierarchy.linkage(D, 'complete')"
        },
        {
            "cell_type": "markdown",
            "metadata": {},
            "source": "Essentially, Hierarchical clustering does not require a pre-specified number of clusters. However, in some applications we want a partition of disjoint clusters just as in flat clustering.\nSo you can use a cutting line:\n"
        },
        {
            "cell_type": "code",
            "execution_count": null,
            "metadata": {},
            "outputs": [],
            "source": "from scipy.cluster.hierarchy import fcluster\nmax_d = 3\nclusters = fcluster(Z, max_d, criterion='distance')\nclusters"
        },
        {
            "cell_type": "markdown",
            "metadata": {},
            "source": "Also, you can determine the number of clusters directly:\n"
        },
        {
            "cell_type": "code",
            "execution_count": null,
            "metadata": {},
            "outputs": [],
            "source": "from scipy.cluster.hierarchy import fcluster\nk = 5\nclusters = fcluster(Z, k, criterion='maxclust')\nclusters\n"
        },
        {
            "cell_type": "markdown",
            "metadata": {},
            "source": "Now, plot the dendrogram:\n"
        },
        {
            "cell_type": "code",
            "execution_count": null,
            "metadata": {},
            "outputs": [],
            "source": "fig = pylab.figure(figsize=(18,50))\ndef llf(id):\n    return '[%s %s %s]' % (pdf['manufact'][id], pdf['model'][id], int(float(pdf['type'][id])) )\n    \ndendro = hierarchy.dendrogram(Z,  leaf_label_func=llf, leaf_rotation=0, leaf_font_size =12, orientation = 'right')"
        },
        {
            "cell_type": "markdown",
            "metadata": {},
            "source": "<h2 id=\"clustering_using_skl\">Clustering using scikit-learn</h2>\n\nLets redo it again, but this time using scikit-learn package:\n"
        },
        {
            "cell_type": "code",
            "execution_count": null,
            "metadata": {},
            "outputs": [],
            "source": "dist_matrix = distance_matrix(feature_mtx,feature_mtx) \nprint(dist_matrix)"
        },
        {
            "cell_type": "markdown",
            "metadata": {},
            "source": "Now, we can use the 'AgglomerativeClustering' function from scikit-learn library to cluster the dataset. The AgglomerativeClustering performs a hierarchical clustering using a bottom up approach. The linkage criteria determines the metric used for the merge strategy:\n\n-   Ward minimizes the sum of squared differences within all clusters. It is a variance-minimizing approach and in this sense is similar to the k-means objective function but tackled with an agglomerative hierarchical approach.\n-   Maximum or complete linkage minimizes the maximum distance between observations of pairs of clusters.\n-   Average linkage minimizes the average of the distances between all observations of pairs of clusters.\n"
        },
        {
            "cell_type": "code",
            "execution_count": null,
            "metadata": {},
            "outputs": [],
            "source": "agglom = AgglomerativeClustering(n_clusters = 6, linkage = 'complete')\nagglom.fit(feature_mtx)\nagglom.labels_"
        },
        {
            "cell_type": "markdown",
            "metadata": {},
            "source": "And, we can add a new field to our dataframe to show the cluster of each row:\n"
        },
        {
            "cell_type": "code",
            "execution_count": null,
            "metadata": {},
            "outputs": [],
            "source": "pdf['cluster_'] = agglom.labels_\npdf.head()"
        },
        {
            "cell_type": "code",
            "execution_count": null,
            "metadata": {},
            "outputs": [],
            "source": "import matplotlib.cm as cm\nn_clusters = max(agglom.labels_)+1\ncolors = cm.rainbow(np.linspace(0, 1, n_clusters))\ncluster_labels = list(range(0, n_clusters))\n\n# Create a figure of size 6 inches by 4 inches.\nplt.figure(figsize=(16,14))\n\nfor color, label in zip(colors, cluster_labels):\n    subset = pdf[pdf.cluster_ == label]\n    for i in subset.index:\n            plt.text(subset.horsepow[i], subset.mpg[i],str(subset['model'][i]), rotation=25) \n    plt.scatter(subset.horsepow, subset.mpg, s= subset.price*10, c=color, label='cluster'+str(label),alpha=0.5)\n#    plt.scatter(subset.horsepow, subset.mpg)\nplt.legend()\nplt.title('Clusters')\nplt.xlabel('horsepow')\nplt.ylabel('mpg')"
        },
        {
            "cell_type": "markdown",
            "metadata": {},
            "source": "As you can see, we are seeing the distribution of each cluster using the scatter plot, but it is not very clear where is the centroid of each cluster. Moreover, there are 2 types of vehicles in our dataset, \"truck\" (value of 1 in the type column) and \"car\" (value of 1 in the type column). So, we use them to distinguish the classes, and summarize the cluster. First we count the number of cases in each group:\n"
        },
        {
            "cell_type": "code",
            "execution_count": null,
            "metadata": {},
            "outputs": [],
            "source": "pdf.groupby(['cluster_','type'])['cluster_'].count()"
        },
        {
            "cell_type": "markdown",
            "metadata": {},
            "source": "Now we can look at the characteristics of each cluster:\n"
        },
        {
            "cell_type": "code",
            "execution_count": null,
            "metadata": {},
            "outputs": [],
            "source": "agg_cars = pdf.groupby(['cluster_','type'])['horsepow','engine_s','mpg','price'].mean()\nagg_cars"
        },
        {
            "cell_type": "markdown",
            "metadata": {},
            "source": "It is obvious that we have 3 main clusters with the majority of vehicles in those.\n\n**Cars**:\n\n-   Cluster 1: with almost high mpg, and low in horsepower.\n-   Cluster 2: with good mpg and horsepower, but higher price than average.\n-   Cluster 3: with low mpg, high horsepower, highest price.\n\n**Trucks**:\n\n-   Cluster 1: with almost highest mpg among trucks, and lowest in horsepower and price.\n-   Cluster 2: with almost low mpg and medium horsepower, but higher price than average.\n-   Cluster 3: with good mpg and horsepower, low price.\n\nPlease notice that we did not use **type** , and **price** of cars in the clustering process, but Hierarchical clustering could forge the clusters and discriminate them with quite high accuracy.\n"
        },
        {
            "cell_type": "code",
            "execution_count": null,
            "metadata": {},
            "outputs": [],
            "source": "plt.figure(figsize=(16,10))\nfor color, label in zip(colors, cluster_labels):\n    subset = agg_cars.loc[(label,),]\n    for i in subset.index:\n        plt.text(subset.loc[i][0]+5, subset.loc[i][2], 'type='+str(int(i)) + ', price='+str(int(subset.loc[i][3]))+'k')\n    plt.scatter(subset.horsepow, subset.mpg, s=subset.price*20, c=color, label='cluster'+str(label))\nplt.legend()\nplt.title('Clusters')\nplt.xlabel('horsepow')\nplt.ylabel('mpg')\n"
        },
        {
            "cell_type": "markdown",
            "metadata": {},
            "source": "<h2>Want to learn more?</h2>\n\nIBM SPSS Modeler is a comprehensive analytics platform that has many machine learning algorithms. It has been designed to bring predictive intelligence to decisions made by individuals, by groups, by systems \u2013 by your enterprise as a whole. A free trial is available through this course, available here: <a href=\"https://www.ibm.com/analytics/spss-statistics-software\">SPSS Modeler</a>\n\nAlso, you can use Watson Studio to run these notebooks faster with bigger datasets. Watson Studio is IBM's leading cloud solution for data scientists, built by data scientists. With Jupyter notebooks, RStudio, Apache Spark and popular libraries pre-packaged in the cloud, Watson Studio enables data scientists to collaborate on their projects without having to install anything. Join the fast-growing community of Watson Studio users today with a free account at <a href=\"https://www.ibm.com/cloud/watson-studio\">Watson Studio</a>\n"
        },
        {
            "cell_type": "markdown",
            "metadata": {},
            "source": "### Thank you for completing this lab!\n\n## Author\n\nSaeed Aghabozorgi\n\n### Other Contributors\n\n<a href=\"https://www.linkedin.com/in/joseph-s-50398b136/\" target=\"_blank\">Joseph Santarcangelo</a>\n\n## Change Log\n\n| Date (YYYY-MM-DD) | Version | Changed By | Change Description                 |\n| ----------------- | ------- | ---------- | ---------------------------------- |\n| 2020-11-03        | 2.1     | Lakshmi    | Updated URL                        |\n| 2020-08-27        | 2.0     | Lavanya    | Moved lab to course repo in GitLab |\n|                   |         |            |                                    |\n|                   |         |            |                                    |\n\n## <h3 align=\"center\"> \u00a9 IBM Corporation 2020. All rights reserved. <h3/>\n"
        }
    ],
    "metadata": {
        "kernelspec": {
            "display_name": "Python 3.7",
            "language": "python",
            "name": "python3"
        },
        "language_info": {
            "codemirror_mode": {
                "name": "ipython",
                "version": 3
            },
            "file_extension": ".py",
            "mimetype": "text/x-python",
            "name": "python",
            "nbconvert_exporter": "python",
            "pygments_lexer": "ipython3",
            "version": "3.7.9"
        }
    },
    "nbformat": 4,
    "nbformat_minor": 4
}